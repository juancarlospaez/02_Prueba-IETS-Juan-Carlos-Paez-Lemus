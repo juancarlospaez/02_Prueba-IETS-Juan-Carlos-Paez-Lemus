{
 "cells": [
  {
   "cell_type": "markdown",
   "id": "c4b19f77",
   "metadata": {},
   "source": [
    "***\n",
    "## Normalizacion de las tabas de referencia REPS, criterios sobre la data:\n",
    "- Fue necesario normalizar la tablas dispuestas en https://prestadores.minsalud.gov.co/habilitacion/ \n",
    "    - (Los CSV, tienen inconsistencias en sus campos, no correspondencia con los encabezados)\n",
    "- Llaves de homologacion para con la tabla Municipios \n",
    "    * Se toma en cuenta los campos: \n",
    "        * codigo_habilitacion"
   ]
  },
  {
   "cell_type": "code",
   "execution_count": 61,
   "id": "91474f27",
   "metadata": {},
   "outputs": [],
   "source": [
    "import pandas as pd\n",
    "import sqlite3"
   ]
  },
  {
   "cell_type": "code",
   "execution_count": 62,
   "id": "298dfb72",
   "metadata": {},
   "outputs": [
    {
     "data": {
      "text/plain": [
       "dict_keys(['01_Prestadores', '02_Servicios', '03_Sedes', '04_CapacidadInstalada', '05_MedidasSeguridad', '06_Sanciones'])"
      ]
     },
     "execution_count": 62,
     "metadata": {},
     "output_type": "execute_result"
    }
   ],
   "source": [
    "# Forzar el engine 'xlrd' (necesitas tener xlrd instalado)\n",
    "TABLASREPS = pd.read_excel(\"01_PRUEBA_IETS\\\\01_INSUMO_REPS_Vigente\\\\00_Consolidado_REPS.xlsx\", sheet_name=None)\n",
    "TABLASREPS.keys()"
   ]
  },
  {
   "cell_type": "markdown",
   "id": "8123542b",
   "metadata": {},
   "source": [
    "***\n",
    "### Validacion de la integridad referencial de los codigo_habilitacion, de las tablas REPS.\n",
    "\n",
    " - Se extrael el codigo de municipio a partir del *codigo_habilitacion* para hacer el merge, ejemplo: *9977300145*  →  <span style=\"color: #ccff99;\"><b>99773</b></span> | *00145*\n",
    "\n",
    " - Se validan las referencias contenidas en la tabla Municipios\n",
    " - Se valida el *codigo_habilitacion* de todas las tablas reportadas en REPS vigente:\n",
    "\n",
    "    - <span style=\"color:#1f77b4;\"><b>01_Prestadores.csv:</b></span> Contiene datos identificativos y administrativos de los prestadores de servicios de salud registrados, incluyendo códigos, nombres, tipo de entidad y estado de habilitación.\n",
    "\n",
    "    - <span style=\"color:#ff7f0e;\"><b>02_Servicios.csv:</b></span> Detalla los servicios de salud ofrecidos por los prestadores, con información de códigos, nombres, clasificación y modalidades de atención.\n",
    "\n",
    "    - <span style=\"color:#2ca02c;\"><b>03_Sedes.csv:</b></span> Registra las sedes físicas de los prestadores, indicando ubicación, dirección, códigos geográficos y datos de contacto.\n",
    "\n",
    "    - <span style=\"color:#d62728;\"><b>04_CapacidadInstalada.csv:</b></span> Describe la capacidad instalada de las sedes, con información sobre número de camas, unidades de servicio y equipamiento disponible.\n",
    "\n",
    "    - <span style=\"color:#9467bd;\"><b>05_MedidasSeguridad.csv:</b></span> Incluye las medidas de seguridad implementadas por los prestadores para garantizar la calidad y seguridad del servicio.\n",
    "\n",
    "    - <span style=\"color:#8c564b;\"><b>06_Sanciones.csv:</b></span> Registra las sanciones administrativas impuestas a prestadores o sedes, con detalles sobre motivos, fechas y estado de los procesos.\n",
    "\n"
   ]
  },
  {
   "cell_type": "code",
   "execution_count": 68,
   "id": "67a32d61",
   "metadata": {},
   "outputs": [],
   "source": [
    "codigo_habilitacion = []  # \n",
    "for TAB_REPS in TABLASREPS.keys():\n",
    "    codigo_habilitacion += TABLASREPS[TAB_REPS]['codigo_habilitacion'].to_list() # Recorrido por todas las hojas del libro REPS vigente"
   ]
  },
  {
   "cell_type": "code",
   "execution_count": 69,
   "id": "2d841dc7",
   "metadata": {},
   "outputs": [],
   "source": [
    "def quitar_ultimos_5_digitos(numero): # Funcion para obtener el campo \"MPIO\", de la tabla Municipios\n",
    "    return int(str(numero)[:-5])\n",
    "\n",
    "DF_CODHABI = pd.DataFrame(set(codigo_habilitacion), columns = ['codigo_habilitacion'])  \n",
    "DF_CODHABI['MPIO'] = DF_CODHABI['codigo_habilitacion'].apply(quitar_ultimos_5_digitos)  # Generacion del codigo MPIO\n",
    "DF_CODHABI.head(4)\n",
    "DF_CODHABI['VALID'] = \"SI\""
   ]
  },
  {
   "cell_type": "markdown",
   "id": "215cca46",
   "metadata": {},
   "source": [
    "***\n",
    "### Cruce con la tabla Municipios (Normalizada)\n",
    "\n",
    "* Se valida integridad referencial de los codigos 'MPIO', contenidos en las tablas REPS viegente\n",
    "*  <strong style=\"color:red;\">Los siguientes municipios tienen alguna novedad con el código MPIO, No se encontró referencia en las tabla REPS vigente</strong>\n",
    "\n",
    "\n",
    "\n",
    "\n",
    "\n",
    "\n"
   ]
  },
  {
   "cell_type": "code",
   "execution_count": 70,
   "id": "0a1c6e3a",
   "metadata": {},
   "outputs": [
    {
     "data": {
      "text/html": [
       "<div>\n",
       "<style scoped>\n",
       "    .dataframe tbody tr th:only-of-type {\n",
       "        vertical-align: middle;\n",
       "    }\n",
       "\n",
       "    .dataframe tbody tr th {\n",
       "        vertical-align: top;\n",
       "    }\n",
       "\n",
       "    .dataframe thead th {\n",
       "        text-align: right;\n",
       "    }\n",
       "</style>\n",
       "<table border=\"1\" class=\"dataframe\">\n",
       "  <thead>\n",
       "    <tr style=\"text-align: right;\">\n",
       "      <th></th>\n",
       "      <th>DP</th>\n",
       "      <th>Departamento</th>\n",
       "      <th>MPIO</th>\n",
       "      <th>Municipio</th>\n",
       "    </tr>\n",
       "  </thead>\n",
       "  <tbody>\n",
       "    <tr>\n",
       "      <th>64955</th>\n",
       "      <td>94</td>\n",
       "      <td>Guainía</td>\n",
       "      <td>94663</td>\n",
       "      <td>Mapiripana</td>\n",
       "    </tr>\n",
       "    <tr>\n",
       "      <th>64957</th>\n",
       "      <td>94</td>\n",
       "      <td>Guainía</td>\n",
       "      <td>94884</td>\n",
       "      <td>Puerto Colombia</td>\n",
       "    </tr>\n",
       "    <tr>\n",
       "      <th>64958</th>\n",
       "      <td>94</td>\n",
       "      <td>Guainía</td>\n",
       "      <td>94885</td>\n",
       "      <td>La Guadalupe</td>\n",
       "    </tr>\n",
       "    <tr>\n",
       "      <th>64959</th>\n",
       "      <td>94</td>\n",
       "      <td>Guainía</td>\n",
       "      <td>94886</td>\n",
       "      <td>Cacahual</td>\n",
       "    </tr>\n",
       "    <tr>\n",
       "      <th>64960</th>\n",
       "      <td>94</td>\n",
       "      <td>Guainía</td>\n",
       "      <td>94887</td>\n",
       "      <td>Pana Pana</td>\n",
       "    </tr>\n",
       "    <tr>\n",
       "      <th>64961</th>\n",
       "      <td>94</td>\n",
       "      <td>Guainía</td>\n",
       "      <td>94888</td>\n",
       "      <td>Morichal</td>\n",
       "    </tr>\n",
       "  </tbody>\n",
       "</table>\n",
       "</div>"
      ],
      "text/plain": [
       "       DP Departamento   MPIO        Municipio\n",
       "64955  94      Guainía  94663       Mapiripana\n",
       "64957  94      Guainía  94884  Puerto Colombia\n",
       "64958  94      Guainía  94885     La Guadalupe\n",
       "64959  94      Guainía  94886         Cacahual\n",
       "64960  94      Guainía  94887        Pana Pana\n",
       "64961  94      Guainía  94888         Morichal"
      ]
     },
     "execution_count": 70,
     "metadata": {},
     "output_type": "execute_result"
    }
   ],
   "source": [
    "MUNICIPIOS = pd.read_excel(\"02_Tablas_Normalizadas\\\\02_Municipios Normalizado.xlsx\")\n",
    "MUNICIPIOS2 = MUNICIPIOS.merge(DF_CODHABI, how = \"left\")\n",
    "MUNICIPIOS2['VALID'] = MUNICIPIOS2['VALID'].fillna(\"NO\")  # El campo VALID se utiliza para validar integrida referencial, iden\n",
    "MUNICIPIOS2[MUNICIPIOS2['VALID'] == \"NO\"][['DP', 'Departamento', 'MPIO', 'Municipio']]"
   ]
  },
  {
   "cell_type": "markdown",
   "id": "46e89cb7",
   "metadata": {},
   "source": [
    "***\n",
    "## Generacion de las tablas normalizadas\n",
    "- Se hace el cruce de las Tablas REPS_Vigente con la tabla Municipios aportada \n",
    "- Se crea la tabla relacional utilizando el motor de SQLite.\n",
    "- La base de datos ba a ser una que contiene las siguientes tablas:\n",
    "    - '01_Prestadores'\n",
    "    - '02_Servicios'\n",
    "    - '03_Sedes'\n",
    "    - '04_CapacidadInstalada'\n",
    "    - '05_MedidasSeguridad'\n",
    "    - '06_Sanciones'\n"
   ]
  },
  {
   "cell_type": "code",
   "execution_count": null,
   "id": "b8a9401c",
   "metadata": {},
   "outputs": [],
   "source": [
    "CAMPOS_Municipios  = ['DP',\n",
    "                      #'Departamento', # Se opiten estos campos en la creacion de la base de datos SQLite, para evitar error\n",
    "                      'MPIO',\n",
    "                      #'Municipio',    # Se opiten estos campos en la creacion de la base de datos SQLite, para evitar error\n",
    "                      'Superficie',\n",
    "                      'PopTot',\n",
    "                      'Rural',\n",
    "                      'Region']"
   ]
  },
  {
   "cell_type": "code",
   "execution_count": null,
   "id": "0fdb9d43",
   "metadata": {},
   "outputs": [],
   "source": [
    "conn = sqlite3.connect(\"02_Tablas_Normalizadas\\\\reps_database.db\")\n",
    "\n",
    "for Tabla_REPS in TABLASREPS.keys():\n",
    "    DFPROV = TABLASREPS[Tabla_REPS]\n",
    "    DFPROV['MPIO'] = DFPROV['codigo_habilitacion'].apply(quitar_ultimos_5_digitos)\n",
    "    DFPROV = DFPROV.merge(MUNICIPIOS[CAMPOS_Municipios], how=\"inner\", left_on='MPIO', right_on='MPIO')\n",
    "    DFPROV = DFPROV.loc[:,~DFPROV.columns.duplicated()]   # Se eliminan columnas duplicadas\n",
    "\n",
    "    DFPROV.to_sql(Tabla_REPS, conn, if_exists=\"replace\", index=False) # Se agregan las tablas en la base de datos reps_database.db\n",
    "conn.close()"
   ]
  },
  {
   "cell_type": "code",
   "execution_count": 84,
   "id": "3f8e8219",
   "metadata": {},
   "outputs": [
    {
     "name": "stdout",
     "output_type": "stream",
     "text": [
      "\n",
      "Tabla: 01_Prestadores\n",
      "Número de filas: 59351\n",
      "Número de campos: 43\n",
      "Campos principales: depa_nombre, muni_nombre, codigo_habilitacion, nombre_prestador, tido_codigo, nits_nit, razon_social, clpr_codigo, clpr_nombre, ese, direccion, telefono, fax, email, gerente, nivel, caracter, habilitado, fecha_radicacion, fecha_vencimiento, fecha_cierre, dv, clase_persona, naju_codigo, naju_nombre, numero_sede_principal, fecha_corte_REPS, telefono_adicional, email_adicional, rep_legal, Municipio PDET, Municipio ZOMAC, Municipio PNIS, Municipio PNSR antes 2023, Municipio PNSR 2023, Municipio PNSR 2024, Column1, MPIO, DP, Superficie, PopTot, Rural, Region\n",
      "\n",
      "Tabla: 02_Servicios\n",
      "Número de filas: 227856\n",
      "Número de campos: 100\n",
      "Campos principales: depa_nombre, muni_nombre, habi_codigo_habilitacion, codigo_habilitacion, numero_sede, sede_nombre, direccion, telefono, email, nits_nit, dv, clase_persona, naju_codigo, naju_nombre, clpr_codigo, clpr_nombre, ese, nivel, caracter, habilitado, grse_codigo, grse_nombre, serv_codigo, serv_nombre, ambulatorio, hospitalario, unidad_movil, domiciliario, otras_extramural, centro_referencia, institucion_remisora, complejidad_baja, complejidad_media, complejidad_alta, fecha_apertura, fecha_cierre, numero_distintivo, numero_sede_principal, observaciones_serv_Res3100_2019, fecha_corte_REPS, nombre, horario_lunes, horario_martes, horario_miercoles, horario_jueves, horario_viernes, horario_sabado, horario_domingo, modalidad_intramural, modalidad_extramural, modalidad_unidad_movil, modalidad_domiciliario, modalidad_jornada_salud, modalidad_telemedicina, modalidad_prestador_referencia, modalidad_prestador_referencia_telemedicina_interactiva, modalidad_prestador_referencia_telemedicina_no_interactiva, modalidad_prestador_referencia_tele_experticia, modalidad_prestador_referencia_tele_monitoreo, modalidad_prestador_remisor, modalidad_prestador_remisor_tele_experticia, modalidad_prestador_remisor_tele_monitoreo, complejidades, especificidad_oncologico, especificidad_trasplante_osteomuscular, especificidad_trasplante_piel, especificidad_trasplante_cardiovascular, especificidad_trasplante_tejido_ocular, especificidad_atencion_paciente_quemado, especificidad_salud_mental, especificidad_spa, especificidad_otras_patologias, especificidad_trasplante_celulas_progenitoras_hematopoyeticas, especificidad_procedimientos_quirurgicos_ambulatorios, especificidad_organo_rinon, especificidad_organo_higado, especificidad_organo_pancreas, especificidad_organo_intestino, especificidad_organo_multivisceral, especificidad_organo_corazon, especificidad_organo_pulmon, especificidad_sustancias_psicoactivas, especificidad_trasplante_renal, version_norma, email_adicional, telefono_adicional, gerente, Municipio PDET, Municipio ZOMAC, Municipio PNIS, Municipio PNSR antes 2023, Municipio PNSR 2023, Municipio PNSR 2024, Column1, MPIO, DP, Superficie, PopTot, Rural, Region\n",
      "\n",
      "Tabla: 03_Sedes\n",
      "Número de filas: 74674\n",
      "Número de campos: 54\n",
      "Campos principales: departamento, municipio, codigo_prestador, nombre_prestador, codigo_habilitacion, numero_sede, nombre, gerente, tipo_zona, direccion, barrio, cepo_codigo, centro_poblado, telefono, fax, email, fecha_apertura, fecha_cierre, nits_nit, dv, clase_persona, naju_codigo, naturaleza, clpr_codigo, clase_prestador, ese, nivel, caracter, sede_principal, habilitado, numero_sede_principal, horario_lunes, horario_martes, horario_miercoles, horario_jueves, horario_viernes, horario_sabado, horario_domingo, fecha_corte_REPS, telefono_adicional, email_adicional, Municipio PDET, Municipio ZOMAC, Municipio PNIS, Municipio PNSR antes 2023, Municipio PNSR 2023, Municipio PNSR 2024, Column1, MPIO, DP, Superficie, PopTot, Rural, Region\n",
      "\n",
      "Tabla: 04_CapacidadInstalada\n",
      "Número de filas: 95228\n",
      "Número de campos: 38\n",
      "Campos principales: depa_nombre, muni_nombre, habi_codigo_habilitacion, nombre_prestador, codigo_habilitacion, numero_sede, sede_nombre, nits_nit, dv, clase_persona, naju_codigo, naju_nombre, clpr_codigo, clpr_nombre, ese, nivel, caracter, habilitado, grupo_capacidad, coca_codigo, coca_nombre, cantidad, numero_sede_principal, numero_placa, modalidad, modelo, numero_tarjeta, fecha_corte_REPS, direccion, email, telefono, Column1, MPIO, DP, Superficie, PopTot, Rural, Region\n",
      "\n",
      "Tabla: 05_MedidasSeguridad\n",
      "Número de filas: 3888\n",
      "Número de campos: 47\n",
      "Campos principales: depa_nombre, muni_nombre, habi_codigo_habilitacion, codigo_habilitacion, numero_sede, sede_nombre, direccion, telefono, email, nits_nit, dv, clase_persona, naju_codigo, naju_nombre, clpr_codigo, clpr_nombre, ese, nivel, caracter, grse_codigo, grse_nombre, serv_codigo, serv_nombre, ambulatorio, hospitalario, unidad_movil, domiciliario, otras_extramural, centro_referencia, institucion_remisora, complejidad_baja, complejidad_media, complejidad_alta, fecha_apertura, fecha_cierre, numero_distintivo, numero_sede_principal, medidas_de_seguridad, fecha_corte_REPS, nombre_prestador, Column1, MPIO, DP, Superficie, PopTot, Rural, Region\n",
      "\n",
      "Tabla: 06_Sanciones\n",
      "Número de filas: 788\n",
      "Número de campos: 48\n",
      "Campos principales: depa_nombre, muni_nombre, habi_codigo_habilitacion, codigo_habilitacion, numero_sede, sede_nombre, direccion, telefono, email, nits_nit, dv, clase_persona, naju_codigo, naju_nombre, clpr_codigo, clpr_nombre, ese, nivel, caracter, grse_codigo, grse_nombre, serv_codigo, serv_nombre, ambulatorio, hospitalario, unidad_movil, domiciliario, otras_extramural, centro_referencia, institucion_remisora, complejidad_baja, complejidad_media, complejidad_alta, fecha_apertura, fecha_cierre, numero_distintivo, numero_sede_principal, sanciones, fecha_corte_REPS, nombre_prestador, medidas_de_seguridad, Column1, MPIO, DP, Superficie, PopTot, Rural, Region\n"
     ]
    }
   ],
   "source": [
    "import sqlite3\n",
    "import pandas as pd\n",
    "\n",
    "def describir_tablas_sqlite(ruta_db):\n",
    "    conn = sqlite3.connect(ruta_db)\n",
    "    cursor = conn.cursor()\n",
    "\n",
    "    cursor.execute(\"SELECT name FROM sqlite_master WHERE type='table';\")\n",
    "    tablas = [t[0] for t in cursor.fetchall()]\n",
    "\n",
    "    for tabla in tablas:\n",
    "        print(f\"\\nTabla: {tabla}\")\n",
    "\n",
    "        # Número de filas\n",
    "        cursor.execute(f'SELECT COUNT(*) FROM \"{tabla}\";')\n",
    "        num_filas = cursor.fetchone()[0]\n",
    "        print(f\"Número de filas: {num_filas}\")\n",
    "\n",
    "        # Columnas y tipos\n",
    "        cursor.execute(f'PRAGMA table_info(\"{tabla}\");')\n",
    "        columnas = cursor.fetchall()  # (cid, name, type, notnull, dflt_value, pk)\n",
    "        num_campos = len(columnas)\n",
    "        print(f\"Número de campos: {num_campos}\")\n",
    "\n",
    "        nombres_campos = [col[1] for col in columnas]\n",
    "        print(f\"Campos principales: {', '.join(nombres_campos)}\")\n",
    "\n",
    "    conn.close()\n",
    "# Uso\n",
    "ruta_base_datos = \"02_Tablas_Normalizadas\\\\reps_database.db\"\n",
    "describir_tablas_sqlite(ruta_base_datos)\n"
   ]
  },
  {
   "cell_type": "code",
   "execution_count": null,
   "id": "ab3a9480",
   "metadata": {},
   "outputs": [],
   "source": []
  },
  {
   "cell_type": "code",
   "execution_count": null,
   "id": "f9c7eda9",
   "metadata": {},
   "outputs": [],
   "source": []
  },
  {
   "cell_type": "code",
   "execution_count": null,
   "id": "ba31fcee",
   "metadata": {},
   "outputs": [],
   "source": []
  }
 ],
 "metadata": {
  "kernelspec": {
   "display_name": "Python 3",
   "language": "python",
   "name": "python3"
  },
  "language_info": {
   "codemirror_mode": {
    "name": "ipython",
    "version": 3
   },
   "file_extension": ".py",
   "mimetype": "text/x-python",
   "name": "python",
   "nbconvert_exporter": "python",
   "pygments_lexer": "ipython3",
   "version": "3.13.2"
  }
 },
 "nbformat": 4,
 "nbformat_minor": 5
}
