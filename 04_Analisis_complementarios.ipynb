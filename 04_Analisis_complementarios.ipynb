{
 "cells": [
  {
   "cell_type": "code",
   "execution_count": null,
   "id": "4cc04b4c",
   "metadata": {},
   "outputs": [],
   "source": [
    "import pandas as pd\n",
    "import glob\n",
    "import pathlib\n",
    "import datetime\n",
    "\n",
    "import unidecode\n",
    "import re\n",
    "from sodapy import Socrata\n",
    "from datetime import datetime\n",
    "import numpy as np"
   ]
  },
  {
   "cell_type": "markdown",
   "id": "ba6cd74f",
   "metadata": {},
   "source": [
    "***\n",
    "# Información complementaria a los análisis\n",
    "\n",
    "Como información complementaria, se extrae de la página [datos.gov.co](https://www.datos.gov.co/) la Base de Datos Única de Afiliados (BDUA) de los regímenes subsidiado y contributivo. Esta información contribuye con datos clave sobre la población afiliada al Sistema General de Seguridad Social en Salud, permitiendo analizar la cobertura, características demográficas y distribución de los afiliados.\n",
    "\n",
    "Para la descarga y procesamiento de los datos se utilizaron las librerías de Python, específicamente `from sodapy import Socrata`, empleando los códigos de las tablas `d7a5-cnra` (subsidiado) y `tq4m-hmg2` (contributivo). El siguiente fragmento ilustra el proceso técnico de extracción y consolidación de la información:\n"
   ]
  },
  {
   "cell_type": "code",
   "execution_count": null,
   "id": "c1dd0787",
   "metadata": {},
   "outputs": [
    {
     "name": "stderr",
     "output_type": "stream",
     "text": [
      "WARNING:root:Requests made without an app_token will be subject to strict throttling limits.\n"
     ]
    },
    {
     "name": "stdout",
     "output_type": "stream",
     "text": [
      "tq4m-hmg2 -> 4870 -> 2025-05-08 -> (466421, 14)\n"
     ]
    }
   ],
   "source": [
    "DSID = [\n",
    "        #'d7a5-cnra',   # Población Base de Datos Única de Afiliados BDUA del régimen subsidiado  (1030170, 14) tiempo = 5 minutos\n",
    "        'tq4m-hmg2'    # Población Base de Datos Única de Afiliados BDUA del régimen contributivo (466421, 14) tiempo = 3 minutos\n",
    "       ]\n",
    "\n",
    "DFCONSOL = []\n",
    "for j in DSID:\n",
    "    client = Socrata(\"www.datos.gov.co\", None)\n",
    "    results = client.get_all(j)\n",
    "    results_df = pd.DataFrame.from_records(results)\n",
    "    DFCONSOL += [results_df]\n",
    "    metadata = client.get_metadata(j)\n",
    "    NREG = metadata['downloadCount']\n",
    "    FECHAA = datetime.fromtimestamp(metadata['rowsUpdatedAt']).strftime('%Y-%m-%d')\n",
    "    print(j, \"->\",\n",
    "          NREG, \"->\",\n",
    "          FECHAA, \"->\",\n",
    "          results_df.shape)\n"
   ]
  },
  {
   "cell_type": "code",
   "execution_count": null,
   "id": "cd5969ca",
   "metadata": {},
   "outputs": [],
   "source": [
    "#pd.concat(DFCONSOL).sample(100, random_state=1).to_excel(\"analisis exploratorio.xlsx\")"
   ]
  },
  {
   "cell_type": "markdown",
   "id": "444f23c8",
   "metadata": {},
   "source": [
    "***\n",
    "# 03_Ampliacion del analisis para Chocó, Cauca y Córdoba en el régimen contributivo\n",
    "\n"
   ]
  },
  {
   "cell_type": "code",
   "execution_count": 27,
   "id": "7856fc6f",
   "metadata": {},
   "outputs": [
    {
     "data": {
      "text/html": [
       "<div>\n",
       "<style scoped>\n",
       "    .dataframe tbody tr th:only-of-type {\n",
       "        vertical-align: middle;\n",
       "    }\n",
       "\n",
       "    .dataframe tbody tr th {\n",
       "        vertical-align: top;\n",
       "    }\n",
       "\n",
       "    .dataframe thead th {\n",
       "        text-align: right;\n",
       "    }\n",
       "</style>\n",
       "<table border=\"1\" class=\"dataframe\">\n",
       "  <thead>\n",
       "    <tr style=\"text-align: right;\">\n",
       "      <th></th>\n",
       "      <th>tps_gnr_nombre</th>\n",
       "      <th>tps_grp_etr_id</th>\n",
       "      <th>ent_id</th>\n",
       "      <th>ent_nombre</th>\n",
       "      <th>tps_rgm_nombre</th>\n",
       "      <th>tps_afl_nombre</th>\n",
       "      <th>tps_est_afl_nombre</th>\n",
       "      <th>tps_cnd_bnf_nombre</th>\n",
       "      <th>zns_nombre</th>\n",
       "      <th>dpr_nombre</th>\n",
       "      <th>mnc_nombre</th>\n",
       "      <th>tps_grp_pbl_id</th>\n",
       "      <th>cantidad</th>\n",
       "      <th>tps_nvl_ssb_id</th>\n",
       "    </tr>\n",
       "  </thead>\n",
       "  <tbody>\n",
       "    <tr>\n",
       "      <th>11</th>\n",
       "      <td>Masculino</td>\n",
       "      <td>5 a 15</td>\n",
       "      <td>EPS002</td>\n",
       "      <td>SALUD TOTAL ENTIDAD PROMOTORA DE SALUD DEL REG...</td>\n",
       "      <td>Contributivo</td>\n",
       "      <td>BENEFICIARIO</td>\n",
       "      <td>Activo</td>\n",
       "      <td>NO APLICA</td>\n",
       "      <td>Urbana-Cabecera Municipal</td>\n",
       "      <td>CORDOBA</td>\n",
       "      <td>CERETE</td>\n",
       "      <td>NULL</td>\n",
       "      <td>31</td>\n",
       "      <td>NaN</td>\n",
       "    </tr>\n",
       "    <tr>\n",
       "      <th>13</th>\n",
       "      <td>Femenino</td>\n",
       "      <td>1 a 5</td>\n",
       "      <td>EPS041</td>\n",
       "      <td>NUEVA EPS S.A. -CM</td>\n",
       "      <td>Contributivo</td>\n",
       "      <td>BENEFICIARIO</td>\n",
       "      <td>Activo</td>\n",
       "      <td>NO APLICA</td>\n",
       "      <td>Urbana</td>\n",
       "      <td>CAUCA</td>\n",
       "      <td>CALDONO</td>\n",
       "      <td>COMUNIDADES INDÍGENAS</td>\n",
       "      <td>1</td>\n",
       "      <td>N</td>\n",
       "    </tr>\n",
       "  </tbody>\n",
       "</table>\n",
       "</div>"
      ],
      "text/plain": [
       "   tps_gnr_nombre tps_grp_etr_id  ent_id  \\\n",
       "11      Masculino         5 a 15  EPS002   \n",
       "13       Femenino          1 a 5  EPS041   \n",
       "\n",
       "                                           ent_nombre tps_rgm_nombre  \\\n",
       "11  SALUD TOTAL ENTIDAD PROMOTORA DE SALUD DEL REG...   Contributivo   \n",
       "13                                 NUEVA EPS S.A. -CM   Contributivo   \n",
       "\n",
       "   tps_afl_nombre tps_est_afl_nombre tps_cnd_bnf_nombre  \\\n",
       "11   BENEFICIARIO             Activo          NO APLICA   \n",
       "13   BENEFICIARIO             Activo          NO APLICA   \n",
       "\n",
       "                   zns_nombre dpr_nombre mnc_nombre         tps_grp_pbl_id  \\\n",
       "11  Urbana-Cabecera Municipal    CORDOBA     CERETE                   NULL   \n",
       "13                     Urbana      CAUCA    CALDONO  COMUNIDADES INDÍGENAS   \n",
       "\n",
       "   cantidad tps_nvl_ssb_id  \n",
       "11       31            NaN  \n",
       "13        1              N  "
      ]
     },
     "execution_count": 27,
     "metadata": {},
     "output_type": "execute_result"
    }
   ],
   "source": [
    "contri = pd.concat(DFCONSOL)\n",
    "SELECT_DEP = {'CHOCO' : \"27\",\n",
    "              'CORDOBA' : \"23\",\n",
    "              'CAUCA' : \"19\"}\n",
    "DF_SELECT_DEP = contri[contri['dpr_nombre'].isin(SELECT_DEP.keys())]  # Se filtra por los departamentos mas afectados\n",
    "DF_SELECT_DEP.head(2)"
   ]
  },
  {
   "cell_type": "code",
   "execution_count": 59,
   "id": "d8a128f5",
   "metadata": {},
   "outputs": [
    {
     "data": {
      "text/plain": [
       "{'1 a 5',\n",
       " '15 a 19',\n",
       " '19 a 45',\n",
       " '45 a 50',\n",
       " '5 a 15',\n",
       " '50 a 55',\n",
       " '55 a 60',\n",
       " '60 a 65',\n",
       " '65 a 70',\n",
       " '70 a 75',\n",
       " '< 1',\n",
       " '> 75'}"
      ]
     },
     "execution_count": 59,
     "metadata": {},
     "output_type": "execute_result"
    }
   ],
   "source": [
    "set(DF_SELECT_DEP ['tps_grp_etr_id'])\n"
   ]
  },
  {
   "cell_type": "code",
   "execution_count": 53,
   "id": "25380641",
   "metadata": {},
   "outputs": [
    {
     "data": {
      "text/plain": [
       "Index(['tps_gnr_nombre', 'tps_grp_etr_id', 'ent_id', 'ent_nombre',\n",
       "       'tps_rgm_nombre', 'tps_afl_nombre', 'tps_est_afl_nombre',\n",
       "       'tps_cnd_bnf_nombre', 'zns_nombre', 'dpr_nombre', 'mnc_nombre',\n",
       "       'tps_grp_pbl_id', 'cantidad', 'tps_nvl_ssb_id', 'DP'],\n",
       "      dtype='object')"
      ]
     },
     "execution_count": 53,
     "metadata": {},
     "output_type": "execute_result"
    }
   ],
   "source": [
    "DF_SELECT_DEP.columns"
   ]
  },
  {
   "cell_type": "code",
   "execution_count": 68,
   "id": "04068e0f",
   "metadata": {},
   "outputs": [
    {
     "data": {
      "text/html": [
       "<div>\n",
       "<style scoped>\n",
       "    .dataframe tbody tr th:only-of-type {\n",
       "        vertical-align: middle;\n",
       "    }\n",
       "\n",
       "    .dataframe tbody tr th {\n",
       "        vertical-align: top;\n",
       "    }\n",
       "\n",
       "    .dataframe thead th {\n",
       "        text-align: right;\n",
       "    }\n",
       "</style>\n",
       "<table border=\"1\" class=\"dataframe\">\n",
       "  <thead>\n",
       "    <tr style=\"text-align: right;\">\n",
       "      <th>tps_gnr_nombre</th>\n",
       "      <th>DP</th>\n",
       "      <th>dpr_nombre</th>\n",
       "      <th>Femenino</th>\n",
       "      <th>Masculino</th>\n",
       "    </tr>\n",
       "  </thead>\n",
       "  <tbody>\n",
       "    <tr>\n",
       "      <th>0</th>\n",
       "      <td>19</td>\n",
       "      <td>CAUCA</td>\n",
       "      <td>8085</td>\n",
       "      <td>8451</td>\n",
       "    </tr>\n",
       "    <tr>\n",
       "      <th>1</th>\n",
       "      <td>23</td>\n",
       "      <td>CORDOBA</td>\n",
       "      <td>9487</td>\n",
       "      <td>10080</td>\n",
       "    </tr>\n",
       "    <tr>\n",
       "      <th>2</th>\n",
       "      <td>27</td>\n",
       "      <td>CHOCO</td>\n",
       "      <td>2469</td>\n",
       "      <td>2634</td>\n",
       "    </tr>\n",
       "  </tbody>\n",
       "</table>\n",
       "</div>"
      ],
      "text/plain": [
       "tps_gnr_nombre  DP dpr_nombre  Femenino  Masculino\n",
       "0               19      CAUCA      8085       8451\n",
       "1               23    CORDOBA      9487      10080\n",
       "2               27      CHOCO      2469       2634"
      ]
     },
     "execution_count": 68,
     "metadata": {},
     "output_type": "execute_result"
    }
   ],
   "source": [
    "dfpivot = DF_SELECT_DEP.pivot_table(index = ['DP', 'dpr_nombre'],\n",
    "                          columns = 'tps_gnr_nombre',\n",
    "                          values='mnc_nombre',\n",
    "                            aggfunc=\"count\").reset_index()\n",
    "dfpivot\n"
   ]
  },
  {
   "cell_type": "code",
   "execution_count": null,
   "id": "e68933cc",
   "metadata": {},
   "outputs": [
    {
     "name": "stdout",
     "output_type": "stream",
     "text": [
      "Mapa guardado como mapa_municipios_con_datos.html\n"
     ]
    }
   ],
   "source": [
    "import folium\n",
    "import json\n",
    "import pandas as pd\n",
    "\n",
    "ruta_geojson = \"02_Tablas_Normalizadas\\\\colombia.geo.json\"\n",
    "\n",
    "# Cargar datos geojson\n",
    "with open(ruta_geojson, 'r', encoding='utf-8') as f:\n",
    "    municipios_geojson = json.load(f)\n",
    "\n",
    "# Crear DataFrame con información\n",
    "info_df = pd.DataFrame({\n",
    "    'DP': ['19', '23', '27'],\n",
    "    'Departamento': ['CAUCA', 'CORDOBA', 'CHOCO'],\n",
    "    'Femenino': [8085, 9487, 2469],\n",
    "    'Masculino': [8451, 10080, 2634]\n",
    "})\n",
    "\n",
    "# Filtrar municipios presentes en el DataFrame\n",
    "municipios_filtrados = {\n",
    "    \"type\": \"FeatureCollection\",\n",
    "    \"features\": [f for f in municipios_geojson['features'] if f['properties']['DPTO'] in info_df['DP'].tolist()]\n",
    "}\n",
    "\n",
    "# Crear mapa centrado en Colombia\n",
    "m = folium.Map(location=[5, -75], zoom_start=6)\n",
    "\n",
    "# Añadir municipios con información del DataFrame en tooltips y popups\n",
    "for feature in municipios_filtrados['features']:\n",
    "    dp = feature['properties']['DPTO']\n",
    "    dept_info = info_df[info_df['DP'] == dp].iloc[0]\n",
    "    folium.GeoJson(\n",
    "        feature,\n",
    "        style_function=lambda x: {\n",
    "            'fillColor': '#F03B20',\n",
    "            'color': 'black',\n",
    "            'weight': 1,\n",
    "            'fillOpacity': 0.7\n",
    "        },\n",
    "        highlight_function=lambda x: {\n",
    "            'fillColor': '#ffff00',\n",
    "            'color': 'black',\n",
    "            'weight': 2,\n",
    "            'fillOpacity': 0.9\n",
    "        },\n",
    "        tooltip=folium.GeoJsonTooltip(\n",
    "            fields=['NOMBRE_DPT'],\n",
    "            aliases=['Departamento:'],\n",
    "            localize=True,\n",
    "            labels=True,\n",
    "            sticky=False,\n",
    "            style=\"background-color: #F0EFEF; border: 2px solid black; border-radius: 3px;\",\n",
    "            max_width=300\n",
    "        ),\n",
    "        popup=folium.Popup(\n",
    "            f\"<b>Departamento:</b> {dept_info['Departamento']}<br>\"\n",
    "            f\"<b>Femenino:</b> {dept_info['Femenino']}<br>\"\n",
    "            f\"<b>Masculino:</b> {dept_info['Masculino']}\",\n",
    "            max_width=250\n",
    "        )\n",
    "    ).add_to(m)\n",
    "\n",
    "m.save(\"mapa_municipios_con_datos.html\")\n",
    "print(\"Mapa guardado como mapa_municipios_con_datos.html\")\n"
   ]
  },
  {
   "cell_type": "code",
   "execution_count": null,
   "id": "da57f971",
   "metadata": {},
   "outputs": [],
   "source": []
  },
  {
   "cell_type": "code",
   "execution_count": null,
   "id": "1360828d",
   "metadata": {},
   "outputs": [],
   "source": []
  }
 ],
 "metadata": {
  "kernelspec": {
   "display_name": "Python 3",
   "language": "python",
   "name": "python3"
  },
  "language_info": {
   "codemirror_mode": {
    "name": "ipython",
    "version": 3
   },
   "file_extension": ".py",
   "mimetype": "text/x-python",
   "name": "python",
   "nbconvert_exporter": "python",
   "pygments_lexer": "ipython3",
   "version": "3.13.2"
  }
 },
 "nbformat": 4,
 "nbformat_minor": 5
}
