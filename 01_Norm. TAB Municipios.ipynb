{
 "cells": [
  {
   "cell_type": "code",
   "execution_count": 1,
   "id": "fddd72f8",
   "metadata": {},
   "outputs": [],
   "source": [
    "import pandas as pd\n",
    "import re"
   ]
  },
  {
   "cell_type": "markdown",
   "id": "764eb60d",
   "metadata": {},
   "source": [
    "***\n",
    "# 1. Normalizacion de la tabla Municipios \n",
    "\n",
    " Descripción de la data. Tabla Municipios.xlsx\n",
    "1.\t**DP:** Código numérico que identifica al Departamento (en este caso, 5 corresponde a Antioquia).\n",
    "2.\t**Departamento:** Nombre de la división político-administrativa principal (equivalente a estados o provincias en otros países). En los datos mostrados aparece \"Antioquia\" con algunas variaciones tipográficas.\n",
    "3.\t**MPIO:** Código numérico de 4 dígitos que identifica al Municipio dentro del departamento (por ejemplo, 5001, 5002, etc.).\n",
    "4.\t**Municipio:** Nombre de la división político-administrativa menor dentro del departamento (por ejemplo, Medellín, Abejorral, etc.).\n",
    "5.\t**Superficie:** Extensión territorial del municipio medida en kilómetros cuadrados (km²).\n",
    "6.\t**PopTot:** Población total del municipio (número de habitantes).\n",
    "7.\t**Rural:** Porcentaje de la población que vive en zonas rurales del municipio.\n",
    "8.\t**Región:** Agrupación geográfica más amplia a la que pertenece el municipio y departamento\n",
    "\n"
   ]
  },
  {
   "cell_type": "code",
   "execution_count": 2,
   "id": "a232adab",
   "metadata": {},
   "outputs": [
    {
     "name": "stdout",
     "output_type": "stream",
     "text": [
      "Ant%ioq>uia          -> Antioquia\n",
      "Ant%ioquia           -> Antioquia\n",
      "Ant%ioqUia           -> Antioquia\n",
      "Antioq>uia           -> Antioquia\n",
      "Antioquia            -> Antioquia\n",
      "Ant%io>qUia          -> Antioquia\n",
      "AntioqUia            -> Antioquia\n",
      "Ant%io>quia          -> Antioquia\n",
      "Vaup>és              -> Vaupés\n",
      "Bogot%á              -> Bogotá\n",
      "Córd>oba             -> Córdoba\n",
      "Nariñ%o              -> Nariño\n",
      "Norte   de   San>tander -> Norte De Santander\n",
      "Valle  del   Cau>ca  -> Valle Del Cauca\n"
     ]
    }
   ],
   "source": [
    "##############################################\n",
    "###   Funcion de normalizacion de textos   ###\n",
    "##############################################\n",
    "# Objetivo de la funcion es normalizar los campos: Departamento y Municipio\n",
    "\n",
    "def normalizar_texto(texto):\n",
    "    # 1. Eliminar caracteres especiales pero conservar letras con acentos, ñ y espacios\n",
    "    texto_limpio = re.sub(r'[^a-zA-ZáéíóúÁÉÍÓÚüÜñÑ\\s]', '', texto)\n",
    "    # 2. Normalizar espacios múltiples a un solo espacio\n",
    "    texto_limpio = re.sub(r'\\s+', ' ', texto_limpio)\n",
    "    # 3. Aplicar formato de título (primera letra de cada palabra en mayúscula)\n",
    "    texto_normalizado = texto_limpio.title()\n",
    "    # 4. Eliminar espacios al inicio y final\n",
    "    texto_normalizado = texto_normalizado.strip()\n",
    "    return texto_normalizado\n",
    "\n",
    "# Lista de ejemplos\n",
    "ejemplos = [\"Ant%ioq>uia\", \"Ant%ioquia\", \"Ant%ioqUia\", \"Antioq>uia\", \n",
    "            \"Antioquia\", \"Ant%io>qUia\", \"AntioqUia\", \"Ant%io>quia\",\n",
    "            \"Vaup>és\", \"Bogot%á\", \"Córd>oba\", \"Nariñ%o\",\n",
    "            \"Norte   de   San>tander\", \"Valle  del   Cau>ca\"]\n",
    "\n",
    "# Aplicar normalización a cada ejemplo\n",
    "for texto in ejemplos:\n",
    "    print(f\"{texto:20} -> {normalizar_texto(texto)}\")"
   ]
  },
  {
   "cell_type": "markdown",
   "id": "0a8dd8bd",
   "metadata": {},
   "source": [
    "***\n",
    "# 2. La tabla municipios tiene dos campos a normalizar: \n",
    "* Departamento\n",
    "* Municipio"
   ]
  },
  {
   "cell_type": "code",
   "execution_count": 3,
   "id": "163e123b",
   "metadata": {},
   "outputs": [
    {
     "data": {
      "text/plain": [
       "(1118, 8)"
      ]
     },
     "execution_count": 3,
     "metadata": {},
     "output_type": "execute_result"
    }
   ],
   "source": [
    "Municipios = pd.read_excel( \"01_PRUEBA_IETS\\\\02_Municipios.xlsx\")   \n",
    "Municipios['Departamento'] = Municipios['Departamento'].apply(normalizar_texto)\n",
    "Municipios['Municipio'] = Municipios['Municipio'].apply(normalizar_texto).copy()\n",
    "Municipios.shape"
   ]
  },
  {
   "cell_type": "markdown",
   "id": "d88b4467",
   "metadata": {},
   "source": [
    "***\n",
    "###  Validacion, integridad referencial para los campos (Departamento, Municipio)"
   ]
  },
  {
   "cell_type": "code",
   "execution_count": 4,
   "id": "2ff104c3",
   "metadata": {},
   "outputs": [
    {
     "data": {
      "text/html": [
       "<div>\n",
       "<style scoped>\n",
       "    .dataframe tbody tr th:only-of-type {\n",
       "        vertical-align: middle;\n",
       "    }\n",
       "\n",
       "    .dataframe tbody tr th {\n",
       "        vertical-align: top;\n",
       "    }\n",
       "\n",
       "    .dataframe thead th {\n",
       "        text-align: right;\n",
       "    }\n",
       "</style>\n",
       "<table border=\"1\" class=\"dataframe\">\n",
       "  <thead>\n",
       "    <tr style=\"text-align: right;\">\n",
       "      <th></th>\n",
       "      <th>DP</th>\n",
       "      <th>Departamento</th>\n",
       "      <th>MPIO</th>\n",
       "      <th>Municipio</th>\n",
       "      <th>Superficie</th>\n",
       "      <th>PopTot</th>\n",
       "      <th>Rural</th>\n",
       "      <th>Region</th>\n",
       "    </tr>\n",
       "  </thead>\n",
       "  <tbody>\n",
       "    <tr>\n",
       "      <th>0</th>\n",
       "      <td>5</td>\n",
       "      <td>Antioquia</td>\n",
       "      <td>5001</td>\n",
       "      <td>Medellín</td>\n",
       "      <td>350.666623</td>\n",
       "      <td>2634570</td>\n",
       "      <td>1.6</td>\n",
       "      <td>Región Eje Cafetero</td>\n",
       "    </tr>\n",
       "    <tr>\n",
       "      <th>1</th>\n",
       "      <td>5</td>\n",
       "      <td>Antioquia</td>\n",
       "      <td>5002</td>\n",
       "      <td>Abejorral</td>\n",
       "      <td>497.566212</td>\n",
       "      <td>21622</td>\n",
       "      <td>56.7</td>\n",
       "      <td>Región Eje Cafetero</td>\n",
       "    </tr>\n",
       "    <tr>\n",
       "      <th>2</th>\n",
       "      <td>5</td>\n",
       "      <td>Antioquia</td>\n",
       "      <td>5004</td>\n",
       "      <td>Abriaquí</td>\n",
       "      <td>287.641603</td>\n",
       "      <td>2872</td>\n",
       "      <td>64.2</td>\n",
       "      <td>Región Eje Cafetero</td>\n",
       "    </tr>\n",
       "    <tr>\n",
       "      <th>3</th>\n",
       "      <td>5</td>\n",
       "      <td>Antioquia</td>\n",
       "      <td>5021</td>\n",
       "      <td>Alejandría</td>\n",
       "      <td>119.467683</td>\n",
       "      <td>4989</td>\n",
       "      <td>40.7</td>\n",
       "      <td>Región Eje Cafetero</td>\n",
       "    </tr>\n",
       "  </tbody>\n",
       "</table>\n",
       "</div>"
      ],
      "text/plain": [
       "   DP Departamento  MPIO   Municipio  Superficie   PopTot  Rural  \\\n",
       "0   5    Antioquia  5001    Medellín  350.666623  2634570    1.6   \n",
       "1   5    Antioquia  5002   Abejorral  497.566212    21622   56.7   \n",
       "2   5    Antioquia  5004    Abriaquí  287.641603     2872   64.2   \n",
       "3   5    Antioquia  5021  Alejandría  119.467683     4989   40.7   \n",
       "\n",
       "                 Region  \n",
       "0  Región Eje Cafetero   \n",
       "1  Región Eje Cafetero   \n",
       "2  Región Eje Cafetero   \n",
       "3  Región Eje Cafetero   "
      ]
     },
     "execution_count": 4,
     "metadata": {},
     "output_type": "execute_result"
    }
   ],
   "source": [
    "Municipios.head(4)"
   ]
  },
  {
   "cell_type": "code",
   "execution_count": 5,
   "id": "2875c978",
   "metadata": {},
   "outputs": [
    {
     "data": {
      "text/plain": [
       "np.int64(1)"
      ]
     },
     "execution_count": 5,
     "metadata": {},
     "output_type": "execute_result"
    }
   ],
   "source": [
    "# Se comprueba que colo hay una referencia del campo \"Departamento\" por cada codigo \"DP\"\n",
    "# Si el numero es 1 se ccomprueba que hay una relacion 1 a 1 para los codigos \"DP\" para Cada descripcion de Departamento  \n",
    "Municipios.groupby(\"DP\").nunique()['Departamento'].max()"
   ]
  },
  {
   "cell_type": "code",
   "execution_count": 6,
   "id": "06f2363b",
   "metadata": {},
   "outputs": [
    {
     "data": {
      "text/plain": [
       "np.int64(1)"
      ]
     },
     "execution_count": 6,
     "metadata": {},
     "output_type": "execute_result"
    }
   ],
   "source": [
    "# Se comprueba que colo hay una referencia del campo \"Municipio\" por cada codigo \"MPIO\"\n",
    "Municipios.groupby(\"MPIO\").nunique()[\"Municipio\"].max()"
   ]
  },
  {
   "cell_type": "markdown",
   "id": "e02afbe1",
   "metadata": {},
   "source": [
    "***\n",
    "# 3. Normalizacion de la informacion numerica para los campos:\n",
    "  \n",
    "- Superficie\n",
    "- PopTot\n",
    "- Rural\n",
    "\n",
    "Se determina que la forma más adecuada de imputar los datos faltantes es mediante un modelo de lenguaje grande (LLM), considerando la naturaleza georreferenciada de la información.\n",
    "Para este ejemplo se utiliza el ultimo de de openai que es el *gpt-4.5-preview*\n"
   ]
  },
  {
   "cell_type": "code",
   "execution_count": null,
   "id": "2d6443ac",
   "metadata": {},
   "outputs": [],
   "source": [
    "import openai\n",
    "\n",
    "# Asigna la clave de API\n",
    "apikey =  \"Para verificar este codigo, solicitenme la apy KEY, ya que al publicarlo en GITHUB la dejaria expuesta, y tengo creditos\"\n",
    "\n",
    "openai.api_key = apikey  # Reemplaza con tu clave real\n",
    "def GPTPROMPT_PLUS(GPTprompt, contenido):\n",
    "    response = openai.ChatCompletion.create(model = \"gpt-4.5-preview\", #\"gpt-4.1\", # \"gpt-4o-search-preview\" ,# REVISAR LOS COSTOS, mequedan poquitos creditos en la API \n",
    "        #web_search_options={\"search_context_size\": \"high\"},  # low medium  high\n",
    "        messages=[{\"role\": \"system\", \"content\": f\"\"\"\n",
    "                   Proporciona datos georeferenciados y demográficos actualizados de Colombia: \n",
    "                 \n",
    "                   :\\n[{contenido}]\"\"\"},\n",
    "                  {\"role\": \"user\", \"content\": GPTprompt}])\n",
    "    return response[\"choices\"][0][\"message\"][\"content\"]  # Extrae la respuesta correctamente"
   ]
  },
  {
   "cell_type": "code",
   "execution_count": 8,
   "id": "4db15951",
   "metadata": {},
   "outputs": [],
   "source": [
    "GPTprompt = \"\"\"\n",
    "                Genera un archivo JSON con la siguiente información basada en la descripción del medicamento proporcionada.\n",
    "\n",
    "                    No incluyas ningún texto adicional antes ni después del JSON.\n",
    "                    Si algún campo no está disponible o no aplica, usa el valor \"NO_APLICA\".\n",
    "                    En caso de que falte información, realiza una búsqueda en la web para completar los datos.\n",
    "                    \n",
    "                    Los campos requeridos en el JSON son:\n",
    "\n",
    "                            \"Superficie\": \"Extensión territorial del municipio medida en kilómetros cuadrados (km²), no incluir unidades, solo un numero tipo float\",\n",
    "                            \"PopTot\": \"Población total del municipio (número de habitantes), solo un numero tipo float\",\n",
    "                            \"Rural\": \"Porcentaje de la población que vive en zonas rurales del municipio. solo un numero tipo float, porcentale es un numero de 0 a 100\"\n",
    "                    \"\"\""
   ]
  },
  {
   "cell_type": "code",
   "execution_count": 9,
   "id": "9487cbbe",
   "metadata": {},
   "outputs": [],
   "source": [
    "import json\n",
    "import re\n",
    "\n",
    "def limpiar_respuesta_api(respuesta):\n",
    "    \"\"\"\n",
    "    Limpia la respuesta de OpenAI eliminando delimitadores de código \n",
    "    y asegurando que sea un JSON válido.\n",
    "    \"\"\"\n",
    "    # 1. Eliminar delimitadores de código ```json y ```\n",
    "    respuesta = re.sub(r\"```json|```\", \"\", respuesta, flags=re.IGNORECASE).strip()\n",
    "    \n",
    "    # 2. Verificar si el JSON es válido antes de convertirlo\n",
    "    try:\n",
    "        json_data = json.loads(respuesta)\n",
    "        return json_data  # Retornar JSON válido como diccionario\n",
    "    except json.JSONDecodeError:\n",
    "        return None  # Si falla, retorna None para manejo de errores\n"
   ]
  },
  {
   "cell_type": "code",
   "execution_count": 10,
   "id": "0fcfbe68",
   "metadata": {},
   "outputs": [
    {
     "data": {
      "text/html": [
       "<div>\n",
       "<style scoped>\n",
       "    .dataframe tbody tr th:only-of-type {\n",
       "        vertical-align: middle;\n",
       "    }\n",
       "\n",
       "    .dataframe tbody tr th {\n",
       "        vertical-align: top;\n",
       "    }\n",
       "\n",
       "    .dataframe thead th {\n",
       "        text-align: right;\n",
       "    }\n",
       "</style>\n",
       "<table border=\"1\" class=\"dataframe\">\n",
       "  <thead>\n",
       "    <tr style=\"text-align: right;\">\n",
       "      <th></th>\n",
       "      <th>DP</th>\n",
       "      <th>Departamento</th>\n",
       "      <th>MPIO</th>\n",
       "      <th>Municipio</th>\n",
       "      <th>Superficie</th>\n",
       "      <th>PopTot</th>\n",
       "      <th>Rural</th>\n",
       "      <th>Region</th>\n",
       "    </tr>\n",
       "  </thead>\n",
       "  <tbody>\n",
       "    <tr>\n",
       "      <th>125</th>\n",
       "      <td>8</td>\n",
       "      <td>Atlántico</td>\n",
       "      <td>8001</td>\n",
       "      <td>Barranquilla</td>\n",
       "      <td>161.872561</td>\n",
       "      <td>1342818</td>\n",
       "      <td>0.0</td>\n",
       "      <td>Región Caribe</td>\n",
       "    </tr>\n",
       "    <tr>\n",
       "      <th>1097</th>\n",
       "      <td>94</td>\n",
       "      <td>Guainía</td>\n",
       "      <td>94663</td>\n",
       "      <td>Mapiripana</td>\n",
       "      <td>NaN</td>\n",
       "      <td>0</td>\n",
       "      <td>NaN</td>\n",
       "      <td>Región Llano</td>\n",
       "    </tr>\n",
       "  </tbody>\n",
       "</table>\n",
       "</div>"
      ],
      "text/plain": [
       "      DP Departamento   MPIO     Municipio  Superficie   PopTot  Rural  \\\n",
       "125    8    Atlántico   8001  Barranquilla  161.872561  1342818    0.0   \n",
       "1097  94      Guainía  94663    Mapiripana         NaN        0    NaN   \n",
       "\n",
       "             Region  \n",
       "125   Región Caribe  \n",
       "1097   Región Llano  "
      ]
     },
     "execution_count": 10,
     "metadata": {},
     "output_type": "execute_result"
    }
   ],
   "source": [
    "################################################################\n",
    "#######        Se identifica informacion faltante        #######\n",
    "################################################################\n",
    "# Se identifica informacion Faltante teniendo en cuenta valores nulos y se rectifican los valores en cero.  \n",
    "#  \n",
    "VALIDACION = Municipios[(Municipios.isna() | (Municipios == 0)).any(axis=1)]\n",
    "VALIDACION"
   ]
  },
  {
   "cell_type": "markdown",
   "id": "8668d517",
   "metadata": {},
   "source": [
    "***\n",
    "# Imputacion automatizada de informacion faltante\n",
    "- La siguiente funcion busca hacer la imputacion condicionada de campos \n",
    "- Toma, solamente los campos NULL o los campos con 0 y los reemplza por la informacion consultada mediante los modelos LLM de openai\n"
   ]
  },
  {
   "cell_type": "code",
   "execution_count": 11,
   "id": "adc11c47",
   "metadata": {},
   "outputs": [
    {
     "name": "stdout",
     "output_type": "stream",
     "text": [
      "------------------------ \n",
      " index:  125\n",
      "DP                         8\n",
      "Departamento       Atlántico\n",
      "MPIO                    8001\n",
      "Municipio       Barranquilla\n",
      "\n",
      "Resultado consulta:  {'Superficie': 154.0, 'PopTot': 1326582.0, 'Rural': 0.0}\n",
      "------------------------ \n",
      " index:  1097\n",
      "DP                      94\n",
      "Departamento       Guainía\n",
      "MPIO                 94663\n",
      "Municipio       Mapiripana\n",
      "\n",
      "Resultado consulta:  {'Superficie': 11780.0, 'PopTot': 3533.0, 'Rural': 93.8}\n"
     ]
    }
   ],
   "source": [
    "\n",
    "for indice in VALIDACION.index:\n",
    "    print(\"-\" * 24 , \"\\n\", \"index: \", indice)\n",
    "    contenido = VALIDACION.loc[indice][['DP', 'Departamento', 'MPIO', 'Municipio']].to_string()\n",
    "    print (contenido)\n",
    "    DICCIONARIO = limpiar_respuesta_api(GPTPROMPT_PLUS(GPTprompt, contenido))\n",
    "    print(\"\\nResultado consulta: \", DICCIONARIO)\n",
    "    for campo in DICCIONARIO.keys():\n",
    "        if pd.isna(Municipios.at[indice, campo]) or Municipios.at[indice, campo] == 0:  #  or Municipios.at[indice, campo] == 0\n",
    "            Municipios.at[Municipios.index[indice], campo] = DICCIONARIO[campo]"
   ]
  },
  {
   "cell_type": "code",
   "execution_count": 12,
   "id": "33e10f5b",
   "metadata": {},
   "outputs": [],
   "source": [
    "Municipios.to_excel(\"02_Tablas_Normalizadas\\\\02_Municipios Normalizado.xlsx\") "
   ]
  }
 ],
 "metadata": {
  "kernelspec": {
   "display_name": "Python 3",
   "language": "python",
   "name": "python3"
  },
  "language_info": {
   "codemirror_mode": {
    "name": "ipython",
    "version": 3
   },
   "file_extension": ".py",
   "mimetype": "text/x-python",
   "name": "python",
   "nbconvert_exporter": "python",
   "pygments_lexer": "ipython3",
   "version": "3.13.2"
  }
 },
 "nbformat": 4,
 "nbformat_minor": 5
}
